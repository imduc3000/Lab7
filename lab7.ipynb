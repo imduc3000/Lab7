{
 "cells": [
  {
   "cell_type": "code",
   "execution_count": 5,
   "metadata": {},
   "outputs": [
    {
     "name": "stdout",
     "output_type": "stream",
     "text": [
      "(a) 1-norm of A1 matrice: 10.0\n",
      "(b) 1-norm of A2 matrice: 9.0\n",
      "(c) 1-norm of A3 matrice: 9.0\n",
      "(d) 1-norm of A4 matrice: 4.0\n",
      "(e) 1-norm of A5 matrice: 8.0\n"
     ]
    }
   ],
   "source": [
    "# Exercise 1: Write command to find 1-norm of the following matrices\n",
    "\n",
    "# 1-norm: Max cua tong cac gia tri cua mot COT trong ma tran\n",
    "\n",
    "# (a)\n",
    "import numpy as np\n",
    "A1 = np.array([[1,-7],[-2,-3]])\n",
    "print('(a) 1-norm of A1 matrice:',np.linalg.norm((A1), ord =1))\n",
    "\n",
    "# (b)\n",
    "import numpy as np\n",
    "A2 = np.array([[-2,8],[3,1]])\n",
    "print('(b) 1-norm of A2 matrice:',np.linalg.norm((A2), ord =1))\n",
    "\n",
    "# (c)\n",
    "import numpy as np\n",
    "A3 = np.array([[2,-8],[3,1]])\n",
    "print('(c) 1-norm of A3 matrice:',np.linalg.norm((A3), ord =1))\n",
    "\n",
    "# (d)\n",
    "import numpy as np\n",
    "A4 = np.array([[2,3],[1,-1]])\n",
    "print('(d) 1-norm of A4 matrice:',np.linalg.norm((A4), ord =1))\n",
    "\n",
    "# (e)\n",
    "import numpy as np\n",
    "A5 = np.array([[5,-4,2],[-1,2,3],[-2,1,0]])\n",
    "print('(e) 1-norm of A5 matrice:',np.linalg.norm((A5), ord =1))"
   ]
  },
  {
   "cell_type": "code",
   "execution_count": 11,
   "metadata": {},
   "outputs": [
    {
     "name": "stdout",
     "output_type": "stream",
     "text": [
      "(a) infinity-norm of B1 matrice: 8.0\n",
      "(b) infinity-norm of B2 matrice: 9.0\n",
      "(c) infinity-norm of B3 matrice: 11.0\n",
      "(d) infinity-norm of B4 matrice: 13.0\n",
      "(e) infinity-norm of B5 matrice: 4.0\n"
     ]
    }
   ],
   "source": [
    "# Exercise 2: Write command to find infinity-norm of the following matrices:\n",
    "\n",
    "# infinity-norm: Max cua tong cac gia tri cua mot HANG trong ma tran\n",
    "\n",
    "# (a)\n",
    "import numpy as np\n",
    "B1 = np.array([[1,-7],[-2,-3]])\n",
    "print('(a) infinity-norm of B1 matrice:',np.linalg.norm((B1), ord =np.inf))\n",
    "\n",
    "# (b)\n",
    "import numpy as np\n",
    "B2 = np.array([[3,6],[1,0]])\n",
    "print('(b) infinity-norm of B2 matrice:',np.linalg.norm((B2), ord =np.inf))\n",
    "\n",
    "# (c)\n",
    "import numpy as np\n",
    "B3 = np.array([[5,-4,2],[-1,2,3],[-2,1,0]])\n",
    "print('(c) infinity-norm of B3 matrice:',np.linalg.norm((B3), ord =np.inf))\n",
    "\n",
    "# (d)\n",
    "import numpy as np\n",
    "B4 = np.array([[3,6,-1],[3,1,0],[2,4,-7]])\n",
    "print('(d) infinity-norm of B4 matrice:',np.linalg.norm((B4), ord =np.inf))\n",
    "\n",
    "# (e)\n",
    "import numpy as np\n",
    "B5 = np.array([[-3,0,0],[0,4,0],[0,0,2]])\n",
    "print('(e) infinity-norm of B5 matrice:',np.linalg.norm((B5), ord =np.inf))"
   ]
  },
  {
   "cell_type": "code",
   "execution_count": 17,
   "metadata": {},
   "outputs": [
    {
     "name": "stdout",
     "output_type": "stream",
     "text": [
      "(a) Frobenius-norm of C1 matrice: 8.0\n",
      "(b) Frobenius-norm of C2 matrice: 9.433981132056603\n",
      "(c) Frobenius-norm of C3 matrice: 3.872983346207417\n"
     ]
    }
   ],
   "source": [
    "# Exercise 3: Write command to find calculate the Frobenius-norm\n",
    "\n",
    "# (a)\n",
    "import numpy as np\n",
    "C1 = np.array([[5,-4,2],[-1,2,3],[-2,1,0]])\n",
    "print('(a) Frobenius-norm of C1 matrice:',np.linalg.norm((C1)))\n",
    "\n",
    "# (b)\n",
    "import numpy as np\n",
    "C2 = np.array([[1,7,3],[4,-2,-2],[-2,-1,1]])\n",
    "print('(b) Frobenius-norm of C2 matrice:',np.linalg.norm((C2)))\n",
    "\n",
    "# (b)\n",
    "import numpy as np\n",
    "C3 = np.array([[2,3],[-1,1]])\n",
    "print('(c) Frobenius-norm of C3 matrice:',np.linalg.norm((C3)))"
   ]
  },
  {
   "cell_type": "code",
   "execution_count": 26,
   "metadata": {},
   "outputs": [
    {
     "name": "stdout",
     "output_type": "stream",
     "text": [
      "(a) Angle between two vectors: 45.00000000000001\n",
      "(b) Angle between two vectors: 90.0\n",
      "(c) Angle between two vectors: 168.69006752597974\n"
     ]
    }
   ],
   "source": [
    "# Exercise 4: Let u and v be vectors in R2. \n",
    "# For the following u and v determine the angle between the vectors.\n",
    "\n",
    "# (a)\n",
    "u = np.array([1,1])\n",
    "v = np.array([0,1])\n",
    "tich_vo_huong = np.dot(u,v)\n",
    "tich_do_dai = np.linalg.norm(u, ord=2) * np.linalg.norm(v, ord=2)\n",
    "final = np.acos(tich_vo_huong/tich_do_dai)\n",
    "print('(a) Angle between two vectors:', np.degrees(final))\n",
    "\n",
    "# (b)\n",
    "u = np.array([1,0])\n",
    "v = np.array([0,1])\n",
    "tich_vo_huong = np.dot(u,v)\n",
    "tich_do_dai = np.linalg.norm(u, ord=2) * np.linalg.norm(v, ord=2)\n",
    "final = np.acos(tich_vo_huong/tich_do_dai)\n",
    "print('(b) Angle between two vectors:', np.degrees(final))\n",
    "\n",
    "# (c)\n",
    "u = np.array([-2,3])\n",
    "v = np.array([1/2,-1/2])\n",
    "tich_vo_huong = np.dot(u,v)\n",
    "tich_do_dai = np.linalg.norm(u, ord=2) * np.linalg.norm(v, ord=2)\n",
    "final = np.acos(tich_vo_huong/tich_do_dai)\n",
    "print('(c) Angle between two vectors:', np.degrees(final))"
   ]
  },
  {
   "cell_type": "code",
   "execution_count": null,
   "metadata": {},
   "outputs": [
    {
     "name": "stdout",
     "output_type": "stream",
     "text": [
      "(a) The unit vector u1: [0.5547002  0.83205029]\n",
      "(b) The unit vector u2: [0.26726124 0.53452248 0.80178373]\n",
      "(c) The unit vector u3: [ 0.66666667 -0.66666667  0.33333333]\n",
      "(d) The unit vector u4: [ 0.4472136   0.63245553 -0.4472136   0.4472136 ]\n"
     ]
    }
   ],
   "source": [
    "# Exercise 5: Determine the unit vector u for each of the following vectors.\n",
    " \n",
    "u1 = np.array([2,3])\n",
    "u2 = np.array([1,2,3])\n",
    "u3 = np.array([1/2,-1/2,1/4])\n",
    "u4 = np.array([np.sqrt(2),2,-np.sqrt(2),np.sqrt(2)])\n",
    "\n",
    "# (a)\n",
    "u1 = u1/np.linalg.norm(u1, ord=2)\n",
    "print('(a) The unit vector u1:', u1)\n",
    "\n",
    "# (b)\n",
    "u2 = u2/np.linalg.norm(u2, ord=2)\n",
    "print('(b) The unit vector u2:', u2)\n",
    "\n",
    "# (c)\n",
    "u3 = u3/np.linalg.norm(u3, ord=2)\n",
    "print('(c) The unit vector u3:', u3)\n",
    "\n",
    "# (c)\n",
    "u4 = u4/np.linalg.norm(u4, ord=2)\n",
    "print('(d) The unit vector u4:', u4)\n",
    "\n"
   ]
  },
  {
   "cell_type": "code",
   "execution_count": null,
   "metadata": {},
   "outputs": [
    {
     "name": "stdout",
     "output_type": "stream",
     "text": [
      "Euclidean distances between s1 & s2: 6.324555320336759\n",
      "Euclidean distances between s1 & s3: 6.164414002968976\n",
      "Euclidean distances between s2 & s3: 8.366600265340756\n"
     ]
    }
   ],
   "source": [
    "# Exercise 6:\n",
    "s1 = np.array([1,2,3])\n",
    "s2 = np.array([7,4,3])\n",
    "s3 = np.array([2,1,9])\n",
    "\n",
    "print ('Euclidean distances between s1 & s2:',np.linalg.norm(s2 - s1))\n",
    "print ('Euclidean distances between s1 & s3:',np.linalg.norm(s3 - s1))\n",
    "print ('Euclidean distances between s2 & s3:',np.linalg.norm(s3 - s2))\n",
    "\n",
    "# s2 - s1: Tinh vecto s1s2\n",
    "# np.linalg.norm(s2 - s1): Tinh do dai vecto"
   ]
  },
  {
   "cell_type": "code",
   "execution_count": null,
   "metadata": {},
   "outputs": [],
   "source": [
    "# Exercise 7: Write a function to decode the encoded following message\n",
    "E = np.array([80,98,99,85,106,94],[71,92,76,95,100,92],[124,163,140,160,176,161])\n",
    "A = np. array([1,2,3], [2,1,2], [3,2,4])"
   ]
  }
 ],
 "metadata": {
  "kernelspec": {
   "display_name": "Python 3",
   "language": "python",
   "name": "python3"
  },
  "language_info": {
   "codemirror_mode": {
    "name": "ipython",
    "version": 3
   },
   "file_extension": ".py",
   "mimetype": "text/x-python",
   "name": "python",
   "nbconvert_exporter": "python",
   "pygments_lexer": "ipython3",
   "version": "3.11.2"
  }
 },
 "nbformat": 4,
 "nbformat_minor": 2
}
