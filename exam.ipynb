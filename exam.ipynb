{
 "cells": [
  {
   "cell_type": "code",
   "execution_count": 26,
   "metadata": {},
   "outputs": [
    {
     "name": "stdout",
     "output_type": "stream",
     "text": [
      "[[1242  941  728  916  567  451  448  495  620  624]\n",
      " [ 941  584  657  737  513  311  339  284  534  521]\n",
      " [ 728  657  570  566  439  238  442  304  455  461]\n",
      " [ 916  737  566  654  474  273  409  420  439  600]\n",
      " [ 567  513  439  474  374  251  281  259  414  221]\n",
      " [ 451  311  238  273  251  180  175  211  172  215]\n",
      " [ 448  339  442  409  281  175  314  216  283  277]\n",
      " [ 495  284  304  420  259  211  216  194  306  290]\n",
      " [ 620  534  455  439  414  172  283  306  370  467]\n",
      " [ 624  521  461  600  221  215  277  290  467  240]]\n"
     ]
    }
   ],
   "source": [
    "import numpy as np\n",
    "A = np.random.randint(1,101, (10,10))\n",
    "B = np.random.randint(1,21, (2,10))\n",
    "C = np.random.randint(1,21, (10,2))\n",
    "\n",
    "# (a)\n",
    "final = A + A.T + C@B + B.T@C.T\n",
    "print(final)\n"
   ]
  },
  {
   "cell_type": "code",
   "execution_count": null,
   "metadata": {},
   "outputs": [
    {
     "name": "stdout",
     "output_type": "stream",
     "text": [
      "[[7.3 5.4 1.1 2.9 4.8 9.9 1.8 4.  7.5 0.5]\n",
      " [0.9 9.2 0.6 5.4 8.5 7.9 8.  2.  6.1 2.1]\n",
      " [3.  9.5 4.8 0.3 3.9 2.6 8.9 1.  6.  5.9]\n",
      " [8.4 8.9 3.4 3.5 3.2 2.6 6.3 8.  0.3 8.4]\n",
      " [8.2 4.7 7.8 7.1 9.  6.6 4.4 4.3 6.  0.4]\n",
      " [6.8 3.3 2.2 2.5 7.7 6.  2.6 8.9 0.6 2.7]\n",
      " [4.1 1.3 9.8 5.8 7.8 6.1 9.7 4.9 4.9 0.8]\n",
      " [8.1 0.1 3.7 6.1 3.6 2.1 3.6 3.  3.5 0.2]\n",
      " [5.3 8.5 1.8 3.5 8.5 2.4 4.7 6.9 2.1 7.6]\n",
      " [2.5 0.6 0.7 2.7 2.2 7.  7.8 6.6 9.7 2.2]]\n"
     ]
    }
   ],
   "source": [
    "# (b)\n"
   ]
  }
 ],
 "metadata": {
  "kernelspec": {
   "display_name": "Python 3",
   "language": "python",
   "name": "python3"
  },
  "language_info": {
   "codemirror_mode": {
    "name": "ipython",
    "version": 3
   },
   "file_extension": ".py",
   "mimetype": "text/x-python",
   "name": "python",
   "nbconvert_exporter": "python",
   "pygments_lexer": "ipython3",
   "version": "3.11.2"
  }
 },
 "nbformat": 4,
 "nbformat_minor": 2
}
